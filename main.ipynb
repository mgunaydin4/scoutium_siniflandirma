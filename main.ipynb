{
 "cells": [
  {
   "cell_type": "markdown",
   "source": [
    "# Makine Öğrenmesi ile Yetenek Avcılığı Sınıflandırma"
   ],
   "metadata": {
    "collapsed": false
   },
   "id": "37e1695f1ad970d0"
  },
  {
   "cell_type": "markdown",
   "source": [
    "## İş Problemi\n",
    "\n",
    "Scout’lar tarafından izlenen futbolcuların özelliklerine verilen puanlara göre, oyuncuların hangi sınıf (average, highlighted) oyuncu olduğunu tahminleme."
   ],
   "metadata": {
    "collapsed": false
   },
   "id": "f9a08d435fdeef5a"
  },
  {
   "cell_type": "markdown",
   "source": [
    "## Veri Seti Hikayesi\n",
    "\n",
    "Veri seti Scoutium’dan maçlarda gözlemlenen futbolcuların özelliklerine göre scoutların değerlendirdikleri futbolcuların, maç içerisinde puanlanan özellikleri ve puanlarını içeren bilgilerden oluşmaktadır."
   ],
   "metadata": {
    "collapsed": false
   },
   "id": "292dc7004ec05981"
  },
  {
   "cell_type": "markdown",
   "source": [
    "## Değişkenler\n",
    "\n",
    "**scoutium_attributes.csv**\n",
    "* **task_response_id:** Bir scoutun bir maçta bir takımın kadrosundaki tüm oyunculara dair değerlendirmelerinin kümesi\n",
    "* **match_id:** İlgili maçın id'si\n",
    "* **evaluator_id:** Değerlendiricinin(scout'un) id'si\n",
    "* **player_id:** İlgili oyuncunun id'si\n",
    "* **position_id:** İlgili oyuncunun o maçta oynadığı pozisyonun id’si \n",
    "        - 1: Kaleci\n",
    "        - 2: Stoper\n",
    "        - 3: Sağ bek\n",
    "        - 4: Sol bek\n",
    "        - 5: Defansif orta saha \n",
    "        - 6: Merkez orta saha \n",
    "        - 7: Sağ kanat\n",
    "        - 8: Sol kanat\n",
    "        - 9: Ofansif orta saha \n",
    "        - 10: Forvet\n",
    "* **analysis_id:** Bir scoutun bir maçta bir oyuncuya dair özellik değerlendirmelerini içeren küme\n",
    "* **attribute_id:** Oyuncuların değerlendirildiği her bir özelliğin id'si\n",
    "* **attribute_value:** Bir scoutun bir oyuncunun bir özelliğine verdiği değer(puan)\n",
    "\n",
    "**scoutium_potential_labels.csv**\n",
    "\n",
    "* **task_response_id:** Bir scoutun bir maçta bir takımın kadrosundaki tüm oyunculara dair değerlendirmelerinin kümesi\n",
    "* **match_id:** İlgili maçın id'si\n",
    "* **evaluator_id:** Değerlendiricinin(scout'un) id'si\n",
    "* **player_id:** İlgili oyuncunun id'si\n",
    "* **potential_label:** Bir scoutun bir maçta bir oyuncuyla ilgili nihai kararını belirten etiket. (hedef değişken)"
   ],
   "metadata": {
    "collapsed": false
   },
   "id": "971c566ee4d1708a"
  },
  {
   "cell_type": "code",
   "outputs": [],
   "source": [
    "# Adım 1: scoutium_attributes.csv ve scoutium_potential_labels.csv dosyalarını okutunuz.\n",
    "\n",
    "# Gerekli kütüphanelerin yüklenmesi\n",
    "import pandas as pd\n",
    "import numpy as np\n",
    "from sklearn.preprocessing import LabelEncoder\n",
    "from sklearn.preprocessing import StandardScaler\n",
    "from sklearn.linear_model import LogisticRegression\n",
    "from sklearn.metrics import accuracy_score, confusion_matrix, roc_auc_score, roc_curve, auc\n",
    "from sklearn.model_selection import cross_validate\n",
    "import seaborn as sns\n",
    "import matplotlib.pyplot as plt\n",
    "from sklearn.metrics import classification_report\n",
    "from sklearn.model_selection import train_test_split\n",
    "\n",
    "pd.set_option('display.expand_frame_repr', False)\n",
    "pd.set_option('display.max_columns', None)\n",
    "pd.set_option('display.max_rows', None)"
   ],
   "metadata": {
    "collapsed": false,
    "ExecuteTime": {
     "end_time": "2024-10-27T21:28:50.012657Z",
     "start_time": "2024-10-27T21:28:49.894778Z"
    }
   },
   "id": "92855a766cf082a8",
   "execution_count": 1
  },
  {
   "cell_type": "code",
   "outputs": [],
   "source": [
    "att_data = pd.read_csv('/Users/melihgunaydin/Desktop/Miuul DSML16/6- Machine Learning/Machine Learning 3. Hafta/Scoutium-220805-075951/scoutium_attributes.csv', sep=\";\")\n",
    "potential_data = pd.read_csv('/Users/melihgunaydin/Desktop/Miuul DSML16/6- Machine Learning/Machine Learning 3. Hafta/Scoutium-220805-075951/scoutium_potential_labels.csv', sep=\";\")"
   ],
   "metadata": {
    "collapsed": false,
    "ExecuteTime": {
     "end_time": "2024-10-27T21:28:50.024422Z",
     "start_time": "2024-10-27T21:28:50.015165Z"
    }
   },
   "id": "699cfcb05fd4edeb",
   "execution_count": 2
  },
  {
   "cell_type": "code",
   "outputs": [],
   "source": [
    "# Adım 2: Okutmuş olduğumuz csv dosyalarını merge fonksiyonunu kullanarak birleştiriniz.\n",
    "\n",
    "# Verileri birleştir\n",
    "df = pd.merge(att_data, potential_data,\n",
    "                        on=['task_response_id', 'match_id', 'evaluator_id', 'player_id'],\n",
    "                        how='inner')  # veya 'outer', 'left', 'right' ihtiyacınıza göre"
   ],
   "metadata": {
    "collapsed": false,
    "ExecuteTime": {
     "end_time": "2024-10-27T21:28:50.029923Z",
     "start_time": "2024-10-27T21:28:50.024975Z"
    }
   },
   "id": "6adfc6a855bba93a",
   "execution_count": 3
  },
  {
   "cell_type": "code",
   "outputs": [
    {
     "data": {
      "text/plain": "   task_response_id  match_id  evaluator_id  player_id  position_id  analysis_id  attribute_id  attribute_value potential_label\n0              4915     62935        177676    1361061            2     12818495          4322             56.0         average\n1              4915     62935        177676    1361061            2     12818495          4323             56.0         average\n2              4915     62935        177676    1361061            2     12818495          4324             67.0         average\n3              4915     62935        177676    1361061            2     12818495          4325             56.0         average\n4              4915     62935        177676    1361061            2     12818495          4326             45.0         average",
      "text/html": "<div>\n<style scoped>\n    .dataframe tbody tr th:only-of-type {\n        vertical-align: middle;\n    }\n\n    .dataframe tbody tr th {\n        vertical-align: top;\n    }\n\n    .dataframe thead th {\n        text-align: right;\n    }\n</style>\n<table border=\"1\" class=\"dataframe\">\n  <thead>\n    <tr style=\"text-align: right;\">\n      <th></th>\n      <th>task_response_id</th>\n      <th>match_id</th>\n      <th>evaluator_id</th>\n      <th>player_id</th>\n      <th>position_id</th>\n      <th>analysis_id</th>\n      <th>attribute_id</th>\n      <th>attribute_value</th>\n      <th>potential_label</th>\n    </tr>\n  </thead>\n  <tbody>\n    <tr>\n      <th>0</th>\n      <td>4915</td>\n      <td>62935</td>\n      <td>177676</td>\n      <td>1361061</td>\n      <td>2</td>\n      <td>12818495</td>\n      <td>4322</td>\n      <td>56.0</td>\n      <td>average</td>\n    </tr>\n    <tr>\n      <th>1</th>\n      <td>4915</td>\n      <td>62935</td>\n      <td>177676</td>\n      <td>1361061</td>\n      <td>2</td>\n      <td>12818495</td>\n      <td>4323</td>\n      <td>56.0</td>\n      <td>average</td>\n    </tr>\n    <tr>\n      <th>2</th>\n      <td>4915</td>\n      <td>62935</td>\n      <td>177676</td>\n      <td>1361061</td>\n      <td>2</td>\n      <td>12818495</td>\n      <td>4324</td>\n      <td>67.0</td>\n      <td>average</td>\n    </tr>\n    <tr>\n      <th>3</th>\n      <td>4915</td>\n      <td>62935</td>\n      <td>177676</td>\n      <td>1361061</td>\n      <td>2</td>\n      <td>12818495</td>\n      <td>4325</td>\n      <td>56.0</td>\n      <td>average</td>\n    </tr>\n    <tr>\n      <th>4</th>\n      <td>4915</td>\n      <td>62935</td>\n      <td>177676</td>\n      <td>1361061</td>\n      <td>2</td>\n      <td>12818495</td>\n      <td>4326</td>\n      <td>45.0</td>\n      <td>average</td>\n    </tr>\n  </tbody>\n</table>\n</div>"
     },
     "execution_count": 4,
     "metadata": {},
     "output_type": "execute_result"
    }
   ],
   "source": [
    "df.head()"
   ],
   "metadata": {
    "collapsed": false,
    "ExecuteTime": {
     "end_time": "2024-10-27T21:28:50.038275Z",
     "start_time": "2024-10-27T21:28:50.031211Z"
    }
   },
   "id": "5109cfe5033247cb",
   "execution_count": 4
  },
  {
   "cell_type": "code",
   "outputs": [
    {
     "data": {
      "text/plain": "(10730, 9)"
     },
     "execution_count": 5,
     "metadata": {},
     "output_type": "execute_result"
    }
   ],
   "source": [
    "df.shape"
   ],
   "metadata": {
    "collapsed": false,
    "ExecuteTime": {
     "end_time": "2024-10-27T21:28:50.042220Z",
     "start_time": "2024-10-27T21:28:50.039174Z"
    }
   },
   "id": "822f10b187ccbe7f",
   "execution_count": 5
  },
  {
   "cell_type": "code",
   "outputs": [],
   "source": [
    "# Adım 3: position_id içerisindeki Kaleci (1) sınıfını veri setinden kaldırınız.\n",
    "df = df[df[\"position_id\"] != 1]"
   ],
   "metadata": {
    "collapsed": false,
    "ExecuteTime": {
     "end_time": "2024-10-27T21:28:50.046256Z",
     "start_time": "2024-10-27T21:28:50.043288Z"
    }
   },
   "id": "48756a11608f762c",
   "execution_count": 6
  },
  {
   "cell_type": "code",
   "outputs": [
    {
     "data": {
      "text/plain": "2     1972\n6     1428\n10    1088\n8     1020\n7      986\n3      986\n4      884\n9      850\n5      816\nName: position_id, dtype: int64"
     },
     "execution_count": 7,
     "metadata": {},
     "output_type": "execute_result"
    }
   ],
   "source": [
    "df.position_id.value_counts()"
   ],
   "metadata": {
    "collapsed": false,
    "ExecuteTime": {
     "end_time": "2024-10-27T21:28:50.051232Z",
     "start_time": "2024-10-27T21:28:50.048272Z"
    }
   },
   "id": "4cc0bff2b67e65",
   "execution_count": 7
  },
  {
   "cell_type": "code",
   "outputs": [
    {
     "data": {
      "text/plain": "(10030, 9)"
     },
     "execution_count": 8,
     "metadata": {},
     "output_type": "execute_result"
    }
   ],
   "source": [
    "df.shape"
   ],
   "metadata": {
    "collapsed": false,
    "ExecuteTime": {
     "end_time": "2024-10-27T21:28:50.054593Z",
     "start_time": "2024-10-27T21:28:50.051717Z"
    }
   },
   "id": "6e7d47072c036650",
   "execution_count": 8
  },
  {
   "cell_type": "code",
   "outputs": [],
   "source": [
    "# Adım 4: potential_label içerisindeki below_average sınıfını veri setinden kaldırınız.( below_average sınıfı tüm verisetinin %1'ini oluşturur)\n",
    "df = df[df[\"potential_label\"] != \"below_average\"]"
   ],
   "metadata": {
    "collapsed": false,
    "ExecuteTime": {
     "end_time": "2024-10-27T21:28:50.058811Z",
     "start_time": "2024-10-27T21:28:50.055157Z"
    }
   },
   "id": "6a0bfb1093c5b502",
   "execution_count": 9
  },
  {
   "cell_type": "code",
   "outputs": [
    {
     "data": {
      "text/plain": "4322    291\n4353    291\n4345    291\n4348    291\n4349    291\n4350    291\n4351    291\n4352    291\n4354    291\n4323    291\n4355    291\n4356    291\n4357    291\n4407    291\n4408    291\n4423    291\n4344    291\n4343    291\n4342    291\n4341    291\n4340    291\n4339    291\n4338    291\n4335    291\n4333    291\n4332    291\n4330    291\n4329    291\n4328    291\n4327    291\n4326    291\n4325    291\n4324    291\n4426    291\nName: attribute_id, dtype: int64"
     },
     "execution_count": 10,
     "metadata": {},
     "output_type": "execute_result"
    }
   ],
   "source": [
    "df[\"attribute_id\"].value_counts()"
   ],
   "metadata": {
    "collapsed": false,
    "ExecuteTime": {
     "end_time": "2024-10-27T21:28:50.063659Z",
     "start_time": "2024-10-27T21:28:50.059629Z"
    }
   },
   "id": "d2b2908716965bcb",
   "execution_count": 10
  },
  {
   "cell_type": "code",
   "outputs": [
    {
     "data": {
      "text/plain": "(9894, 9)"
     },
     "execution_count": 11,
     "metadata": {},
     "output_type": "execute_result"
    }
   ],
   "source": [
    "df.shape"
   ],
   "metadata": {
    "collapsed": false,
    "ExecuteTime": {
     "end_time": "2024-10-27T21:28:50.068116Z",
     "start_time": "2024-10-27T21:28:50.064288Z"
    }
   },
   "id": "2b712ef7bedd786d",
   "execution_count": 11
  },
  {
   "cell_type": "code",
   "outputs": [
    {
     "data": {
      "text/plain": "task_response_id    0\nmatch_id            0\nevaluator_id        0\nplayer_id           0\nposition_id         0\nanalysis_id         0\nattribute_id        0\nattribute_value     0\npotential_label     0\ndtype: int64"
     },
     "execution_count": 12,
     "metadata": {},
     "output_type": "execute_result"
    }
   ],
   "source": [
    "# Adım 5: Oluşturduğunuz veri setinden “pivot_table” fonksiyonunu kullanarak bir tablo oluşturunuz. Bu pivot table'da her satırda bir oyuncu olacak şekilde manipülasyon yapınız.\n",
    "\n",
    "# Adım 5.1: indekste “player_id”,“position_id” ve “potential_label”, sütunlarda “attribute_id” ve değerlerde scout’ların oyunculara verdiği puan “attribute_value” olacak şekilde pivot table’ı oluşturunuz.\n",
    "df.isnull().sum()"
   ],
   "metadata": {
    "collapsed": false,
    "ExecuteTime": {
     "end_time": "2024-10-27T21:28:50.074658Z",
     "start_time": "2024-10-27T21:28:50.069166Z"
    }
   },
   "id": "56ab41631f9d33c0",
   "execution_count": 12
  },
  {
   "cell_type": "code",
   "outputs": [],
   "source": [
    "df = df.pivot_table(index= [\"player_id\", \"position_id\", \"potential_label\"], columns='attribute_id', values=\"attribute_value\")"
   ],
   "metadata": {
    "collapsed": false,
    "ExecuteTime": {
     "end_time": "2024-10-27T21:28:50.083716Z",
     "start_time": "2024-10-27T21:28:50.075719Z"
    }
   },
   "id": "a1a41830b1b5e814",
   "execution_count": 13
  },
  {
   "cell_type": "code",
   "outputs": [
    {
     "data": {
      "text/plain": "attribute_id                           4322  4323  4324  4325  4326  4327  4328  4329  4330  4332  4333  4335  4338  4339  4340  4341  4342  4343  4344  4345  4348  4349  4350  4351  4352  4353  4354  4355  4356  4357  4407  4408  4423  4426\nplayer_id position_id potential_label                                                                                                                                                                                                            \n1355710   7           average          50.5  50.5  34.0  50.5  45.0  45.0  45.0  45.0  50.5  56.0  39.5  34.0  39.5  39.5  45.0  45.0  50.5  28.5  23.0  39.5  28.5  28.5  45.0  50.5  56.0  34.0  39.5  50.5  34.0  34.0  56.0  34.0  34.0  56.0\n1356362   9           average          67.0  67.0  67.0  67.0  67.0  67.0  67.0  67.0  67.0  67.0  67.0  67.0  67.0  67.0  67.0  67.0  67.0  67.0  56.0  67.0  67.0  56.0  67.0  67.0  67.0  67.0  78.0  67.0  67.0  67.0  67.0  67.0  56.0  78.0\n1356375   3           average          67.0  67.0  67.0  67.0  67.0  67.0  67.0  78.0  67.0  67.0  78.0  56.0  67.0  67.0  67.0  67.0  67.0  56.0  56.0  67.0  67.0  56.0  56.0  67.0  67.0  67.0  78.0  67.0  67.0  67.0  67.0  67.0  56.0  78.0\n          4           average          67.0  78.0  67.0  67.0  67.0  78.0  78.0  78.0  56.0  67.0  67.0  67.0  78.0  78.0  56.0  67.0  67.0  45.0  45.0  56.0  67.0  67.0  67.0  67.0  78.0  67.0  67.0  67.0  56.0  67.0  56.0  67.0  45.0  56.0\n1356411   9           average          67.0  67.0  78.0  78.0  67.0  67.0  67.0  67.0  89.0  78.0  67.0  67.0  67.0  56.0  56.0  67.0  78.0  56.0  56.0  67.0  56.0  67.0  56.0  67.0  67.0  56.0  67.0  67.0  56.0  67.0  89.0  56.0  67.0  78.0",
      "text/html": "<div>\n<style scoped>\n    .dataframe tbody tr th:only-of-type {\n        vertical-align: middle;\n    }\n\n    .dataframe tbody tr th {\n        vertical-align: top;\n    }\n\n    .dataframe thead th {\n        text-align: right;\n    }\n</style>\n<table border=\"1\" class=\"dataframe\">\n  <thead>\n    <tr style=\"text-align: right;\">\n      <th></th>\n      <th></th>\n      <th>attribute_id</th>\n      <th>4322</th>\n      <th>4323</th>\n      <th>4324</th>\n      <th>4325</th>\n      <th>4326</th>\n      <th>4327</th>\n      <th>4328</th>\n      <th>4329</th>\n      <th>4330</th>\n      <th>4332</th>\n      <th>4333</th>\n      <th>4335</th>\n      <th>4338</th>\n      <th>4339</th>\n      <th>4340</th>\n      <th>4341</th>\n      <th>4342</th>\n      <th>4343</th>\n      <th>4344</th>\n      <th>4345</th>\n      <th>4348</th>\n      <th>4349</th>\n      <th>4350</th>\n      <th>4351</th>\n      <th>4352</th>\n      <th>4353</th>\n      <th>4354</th>\n      <th>4355</th>\n      <th>4356</th>\n      <th>4357</th>\n      <th>4407</th>\n      <th>4408</th>\n      <th>4423</th>\n      <th>4426</th>\n    </tr>\n    <tr>\n      <th>player_id</th>\n      <th>position_id</th>\n      <th>potential_label</th>\n      <th></th>\n      <th></th>\n      <th></th>\n      <th></th>\n      <th></th>\n      <th></th>\n      <th></th>\n      <th></th>\n      <th></th>\n      <th></th>\n      <th></th>\n      <th></th>\n      <th></th>\n      <th></th>\n      <th></th>\n      <th></th>\n      <th></th>\n      <th></th>\n      <th></th>\n      <th></th>\n      <th></th>\n      <th></th>\n      <th></th>\n      <th></th>\n      <th></th>\n      <th></th>\n      <th></th>\n      <th></th>\n      <th></th>\n      <th></th>\n      <th></th>\n      <th></th>\n      <th></th>\n      <th></th>\n    </tr>\n  </thead>\n  <tbody>\n    <tr>\n      <th>1355710</th>\n      <th>7</th>\n      <th>average</th>\n      <td>50.5</td>\n      <td>50.5</td>\n      <td>34.0</td>\n      <td>50.5</td>\n      <td>45.0</td>\n      <td>45.0</td>\n      <td>45.0</td>\n      <td>45.0</td>\n      <td>50.5</td>\n      <td>56.0</td>\n      <td>39.5</td>\n      <td>34.0</td>\n      <td>39.5</td>\n      <td>39.5</td>\n      <td>45.0</td>\n      <td>45.0</td>\n      <td>50.5</td>\n      <td>28.5</td>\n      <td>23.0</td>\n      <td>39.5</td>\n      <td>28.5</td>\n      <td>28.5</td>\n      <td>45.0</td>\n      <td>50.5</td>\n      <td>56.0</td>\n      <td>34.0</td>\n      <td>39.5</td>\n      <td>50.5</td>\n      <td>34.0</td>\n      <td>34.0</td>\n      <td>56.0</td>\n      <td>34.0</td>\n      <td>34.0</td>\n      <td>56.0</td>\n    </tr>\n    <tr>\n      <th>1356362</th>\n      <th>9</th>\n      <th>average</th>\n      <td>67.0</td>\n      <td>67.0</td>\n      <td>67.0</td>\n      <td>67.0</td>\n      <td>67.0</td>\n      <td>67.0</td>\n      <td>67.0</td>\n      <td>67.0</td>\n      <td>67.0</td>\n      <td>67.0</td>\n      <td>67.0</td>\n      <td>67.0</td>\n      <td>67.0</td>\n      <td>67.0</td>\n      <td>67.0</td>\n      <td>67.0</td>\n      <td>67.0</td>\n      <td>67.0</td>\n      <td>56.0</td>\n      <td>67.0</td>\n      <td>67.0</td>\n      <td>56.0</td>\n      <td>67.0</td>\n      <td>67.0</td>\n      <td>67.0</td>\n      <td>67.0</td>\n      <td>78.0</td>\n      <td>67.0</td>\n      <td>67.0</td>\n      <td>67.0</td>\n      <td>67.0</td>\n      <td>67.0</td>\n      <td>56.0</td>\n      <td>78.0</td>\n    </tr>\n    <tr>\n      <th rowspan=\"2\" valign=\"top\">1356375</th>\n      <th>3</th>\n      <th>average</th>\n      <td>67.0</td>\n      <td>67.0</td>\n      <td>67.0</td>\n      <td>67.0</td>\n      <td>67.0</td>\n      <td>67.0</td>\n      <td>67.0</td>\n      <td>78.0</td>\n      <td>67.0</td>\n      <td>67.0</td>\n      <td>78.0</td>\n      <td>56.0</td>\n      <td>67.0</td>\n      <td>67.0</td>\n      <td>67.0</td>\n      <td>67.0</td>\n      <td>67.0</td>\n      <td>56.0</td>\n      <td>56.0</td>\n      <td>67.0</td>\n      <td>67.0</td>\n      <td>56.0</td>\n      <td>56.0</td>\n      <td>67.0</td>\n      <td>67.0</td>\n      <td>67.0</td>\n      <td>78.0</td>\n      <td>67.0</td>\n      <td>67.0</td>\n      <td>67.0</td>\n      <td>67.0</td>\n      <td>67.0</td>\n      <td>56.0</td>\n      <td>78.0</td>\n    </tr>\n    <tr>\n      <th>4</th>\n      <th>average</th>\n      <td>67.0</td>\n      <td>78.0</td>\n      <td>67.0</td>\n      <td>67.0</td>\n      <td>67.0</td>\n      <td>78.0</td>\n      <td>78.0</td>\n      <td>78.0</td>\n      <td>56.0</td>\n      <td>67.0</td>\n      <td>67.0</td>\n      <td>67.0</td>\n      <td>78.0</td>\n      <td>78.0</td>\n      <td>56.0</td>\n      <td>67.0</td>\n      <td>67.0</td>\n      <td>45.0</td>\n      <td>45.0</td>\n      <td>56.0</td>\n      <td>67.0</td>\n      <td>67.0</td>\n      <td>67.0</td>\n      <td>67.0</td>\n      <td>78.0</td>\n      <td>67.0</td>\n      <td>67.0</td>\n      <td>67.0</td>\n      <td>56.0</td>\n      <td>67.0</td>\n      <td>56.0</td>\n      <td>67.0</td>\n      <td>45.0</td>\n      <td>56.0</td>\n    </tr>\n    <tr>\n      <th>1356411</th>\n      <th>9</th>\n      <th>average</th>\n      <td>67.0</td>\n      <td>67.0</td>\n      <td>78.0</td>\n      <td>78.0</td>\n      <td>67.0</td>\n      <td>67.0</td>\n      <td>67.0</td>\n      <td>67.0</td>\n      <td>89.0</td>\n      <td>78.0</td>\n      <td>67.0</td>\n      <td>67.0</td>\n      <td>67.0</td>\n      <td>56.0</td>\n      <td>56.0</td>\n      <td>67.0</td>\n      <td>78.0</td>\n      <td>56.0</td>\n      <td>56.0</td>\n      <td>67.0</td>\n      <td>56.0</td>\n      <td>67.0</td>\n      <td>56.0</td>\n      <td>67.0</td>\n      <td>67.0</td>\n      <td>56.0</td>\n      <td>67.0</td>\n      <td>67.0</td>\n      <td>56.0</td>\n      <td>67.0</td>\n      <td>89.0</td>\n      <td>56.0</td>\n      <td>67.0</td>\n      <td>78.0</td>\n    </tr>\n  </tbody>\n</table>\n</div>"
     },
     "execution_count": 14,
     "metadata": {},
     "output_type": "execute_result"
    }
   ],
   "source": [
    "df.head()"
   ],
   "metadata": {
    "collapsed": false,
    "ExecuteTime": {
     "end_time": "2024-10-27T21:28:50.097852Z",
     "start_time": "2024-10-27T21:28:50.085163Z"
    }
   },
   "id": "e02799fbfb32d9e7",
   "execution_count": 14
  },
  {
   "cell_type": "code",
   "outputs": [],
   "source": [
    "# Adım 5.2: “reset_index” fonksiyonunu kullanarak indeksleri değişken olarak atayınız ve “attribute_id” sütunlarının isimlerini stringe çeviriniz.\n",
    "df = df.reset_index()"
   ],
   "metadata": {
    "collapsed": false,
    "ExecuteTime": {
     "end_time": "2024-10-27T21:28:50.102408Z",
     "start_time": "2024-10-27T21:28:50.099023Z"
    }
   },
   "id": "e6a4df55355cbeac",
   "execution_count": 15
  },
  {
   "cell_type": "code",
   "outputs": [],
   "source": [
    "df.columns = df.columns.map(str)"
   ],
   "metadata": {
    "collapsed": false,
    "ExecuteTime": {
     "end_time": "2024-10-27T21:28:50.104904Z",
     "start_time": "2024-10-27T21:28:50.102971Z"
    }
   },
   "id": "17c229617a85cbd7",
   "execution_count": 16
  },
  {
   "cell_type": "code",
   "outputs": [
    {
     "data": {
      "text/plain": "attribute_id  player_id  position_id potential_label  4322  4323  4324  4325  4326  4327  4328  4329  4330  4332  4333  4335  4338  4339  4340  4341  4342  4343  4344  4345  4348  4349  4350  4351  4352  4353  4354  4355  4356  4357  4407  4408  4423  4426\n0               1355710            7         average  50.5  50.5  34.0  50.5  45.0  45.0  45.0  45.0  50.5  56.0  39.5  34.0  39.5  39.5  45.0  45.0  50.5  28.5  23.0  39.5  28.5  28.5  45.0  50.5  56.0  34.0  39.5  50.5  34.0  34.0  56.0  34.0  34.0  56.0\n1               1356362            9         average  67.0  67.0  67.0  67.0  67.0  67.0  67.0  67.0  67.0  67.0  67.0  67.0  67.0  67.0  67.0  67.0  67.0  67.0  56.0  67.0  67.0  56.0  67.0  67.0  67.0  67.0  78.0  67.0  67.0  67.0  67.0  67.0  56.0  78.0\n2               1356375            3         average  67.0  67.0  67.0  67.0  67.0  67.0  67.0  78.0  67.0  67.0  78.0  56.0  67.0  67.0  67.0  67.0  67.0  56.0  56.0  67.0  67.0  56.0  56.0  67.0  67.0  67.0  78.0  67.0  67.0  67.0  67.0  67.0  56.0  78.0\n3               1356375            4         average  67.0  78.0  67.0  67.0  67.0  78.0  78.0  78.0  56.0  67.0  67.0  67.0  78.0  78.0  56.0  67.0  67.0  45.0  45.0  56.0  67.0  67.0  67.0  67.0  78.0  67.0  67.0  67.0  56.0  67.0  56.0  67.0  45.0  56.0\n4               1356411            9         average  67.0  67.0  78.0  78.0  67.0  67.0  67.0  67.0  89.0  78.0  67.0  67.0  67.0  56.0  56.0  67.0  78.0  56.0  56.0  67.0  56.0  67.0  56.0  67.0  67.0  56.0  67.0  67.0  56.0  67.0  89.0  56.0  67.0  78.0",
      "text/html": "<div>\n<style scoped>\n    .dataframe tbody tr th:only-of-type {\n        vertical-align: middle;\n    }\n\n    .dataframe tbody tr th {\n        vertical-align: top;\n    }\n\n    .dataframe thead th {\n        text-align: right;\n    }\n</style>\n<table border=\"1\" class=\"dataframe\">\n  <thead>\n    <tr style=\"text-align: right;\">\n      <th>attribute_id</th>\n      <th>player_id</th>\n      <th>position_id</th>\n      <th>potential_label</th>\n      <th>4322</th>\n      <th>4323</th>\n      <th>4324</th>\n      <th>4325</th>\n      <th>4326</th>\n      <th>4327</th>\n      <th>4328</th>\n      <th>4329</th>\n      <th>4330</th>\n      <th>4332</th>\n      <th>4333</th>\n      <th>4335</th>\n      <th>4338</th>\n      <th>4339</th>\n      <th>4340</th>\n      <th>4341</th>\n      <th>4342</th>\n      <th>4343</th>\n      <th>4344</th>\n      <th>4345</th>\n      <th>4348</th>\n      <th>4349</th>\n      <th>4350</th>\n      <th>4351</th>\n      <th>4352</th>\n      <th>4353</th>\n      <th>4354</th>\n      <th>4355</th>\n      <th>4356</th>\n      <th>4357</th>\n      <th>4407</th>\n      <th>4408</th>\n      <th>4423</th>\n      <th>4426</th>\n    </tr>\n  </thead>\n  <tbody>\n    <tr>\n      <th>0</th>\n      <td>1355710</td>\n      <td>7</td>\n      <td>average</td>\n      <td>50.5</td>\n      <td>50.5</td>\n      <td>34.0</td>\n      <td>50.5</td>\n      <td>45.0</td>\n      <td>45.0</td>\n      <td>45.0</td>\n      <td>45.0</td>\n      <td>50.5</td>\n      <td>56.0</td>\n      <td>39.5</td>\n      <td>34.0</td>\n      <td>39.5</td>\n      <td>39.5</td>\n      <td>45.0</td>\n      <td>45.0</td>\n      <td>50.5</td>\n      <td>28.5</td>\n      <td>23.0</td>\n      <td>39.5</td>\n      <td>28.5</td>\n      <td>28.5</td>\n      <td>45.0</td>\n      <td>50.5</td>\n      <td>56.0</td>\n      <td>34.0</td>\n      <td>39.5</td>\n      <td>50.5</td>\n      <td>34.0</td>\n      <td>34.0</td>\n      <td>56.0</td>\n      <td>34.0</td>\n      <td>34.0</td>\n      <td>56.0</td>\n    </tr>\n    <tr>\n      <th>1</th>\n      <td>1356362</td>\n      <td>9</td>\n      <td>average</td>\n      <td>67.0</td>\n      <td>67.0</td>\n      <td>67.0</td>\n      <td>67.0</td>\n      <td>67.0</td>\n      <td>67.0</td>\n      <td>67.0</td>\n      <td>67.0</td>\n      <td>67.0</td>\n      <td>67.0</td>\n      <td>67.0</td>\n      <td>67.0</td>\n      <td>67.0</td>\n      <td>67.0</td>\n      <td>67.0</td>\n      <td>67.0</td>\n      <td>67.0</td>\n      <td>67.0</td>\n      <td>56.0</td>\n      <td>67.0</td>\n      <td>67.0</td>\n      <td>56.0</td>\n      <td>67.0</td>\n      <td>67.0</td>\n      <td>67.0</td>\n      <td>67.0</td>\n      <td>78.0</td>\n      <td>67.0</td>\n      <td>67.0</td>\n      <td>67.0</td>\n      <td>67.0</td>\n      <td>67.0</td>\n      <td>56.0</td>\n      <td>78.0</td>\n    </tr>\n    <tr>\n      <th>2</th>\n      <td>1356375</td>\n      <td>3</td>\n      <td>average</td>\n      <td>67.0</td>\n      <td>67.0</td>\n      <td>67.0</td>\n      <td>67.0</td>\n      <td>67.0</td>\n      <td>67.0</td>\n      <td>67.0</td>\n      <td>78.0</td>\n      <td>67.0</td>\n      <td>67.0</td>\n      <td>78.0</td>\n      <td>56.0</td>\n      <td>67.0</td>\n      <td>67.0</td>\n      <td>67.0</td>\n      <td>67.0</td>\n      <td>67.0</td>\n      <td>56.0</td>\n      <td>56.0</td>\n      <td>67.0</td>\n      <td>67.0</td>\n      <td>56.0</td>\n      <td>56.0</td>\n      <td>67.0</td>\n      <td>67.0</td>\n      <td>67.0</td>\n      <td>78.0</td>\n      <td>67.0</td>\n      <td>67.0</td>\n      <td>67.0</td>\n      <td>67.0</td>\n      <td>67.0</td>\n      <td>56.0</td>\n      <td>78.0</td>\n    </tr>\n    <tr>\n      <th>3</th>\n      <td>1356375</td>\n      <td>4</td>\n      <td>average</td>\n      <td>67.0</td>\n      <td>78.0</td>\n      <td>67.0</td>\n      <td>67.0</td>\n      <td>67.0</td>\n      <td>78.0</td>\n      <td>78.0</td>\n      <td>78.0</td>\n      <td>56.0</td>\n      <td>67.0</td>\n      <td>67.0</td>\n      <td>67.0</td>\n      <td>78.0</td>\n      <td>78.0</td>\n      <td>56.0</td>\n      <td>67.0</td>\n      <td>67.0</td>\n      <td>45.0</td>\n      <td>45.0</td>\n      <td>56.0</td>\n      <td>67.0</td>\n      <td>67.0</td>\n      <td>67.0</td>\n      <td>67.0</td>\n      <td>78.0</td>\n      <td>67.0</td>\n      <td>67.0</td>\n      <td>67.0</td>\n      <td>56.0</td>\n      <td>67.0</td>\n      <td>56.0</td>\n      <td>67.0</td>\n      <td>45.0</td>\n      <td>56.0</td>\n    </tr>\n    <tr>\n      <th>4</th>\n      <td>1356411</td>\n      <td>9</td>\n      <td>average</td>\n      <td>67.0</td>\n      <td>67.0</td>\n      <td>78.0</td>\n      <td>78.0</td>\n      <td>67.0</td>\n      <td>67.0</td>\n      <td>67.0</td>\n      <td>67.0</td>\n      <td>89.0</td>\n      <td>78.0</td>\n      <td>67.0</td>\n      <td>67.0</td>\n      <td>67.0</td>\n      <td>56.0</td>\n      <td>56.0</td>\n      <td>67.0</td>\n      <td>78.0</td>\n      <td>56.0</td>\n      <td>56.0</td>\n      <td>67.0</td>\n      <td>56.0</td>\n      <td>67.0</td>\n      <td>56.0</td>\n      <td>67.0</td>\n      <td>67.0</td>\n      <td>56.0</td>\n      <td>67.0</td>\n      <td>67.0</td>\n      <td>56.0</td>\n      <td>67.0</td>\n      <td>89.0</td>\n      <td>56.0</td>\n      <td>67.0</td>\n      <td>78.0</td>\n    </tr>\n  </tbody>\n</table>\n</div>"
     },
     "execution_count": 17,
     "metadata": {},
     "output_type": "execute_result"
    }
   ],
   "source": [
    "df.head()"
   ],
   "metadata": {
    "collapsed": false,
    "ExecuteTime": {
     "end_time": "2024-10-27T21:28:50.118201Z",
     "start_time": "2024-10-27T21:28:50.105382Z"
    }
   },
   "id": "905689813b597bb9",
   "execution_count": 17
  },
  {
   "cell_type": "code",
   "outputs": [
    {
     "data": {
      "text/plain": "attribute_id  player_id  position_id potential_label  4322  4323  4324  4325  4326  4327  4328  4329  4330  4332  4333  4335  4338  4339  4340  4341  4342  4343  4344  4345  4348  4349  4350   4351  4352  4353  4354  4355  4356  4357  4407  4408  4423  4426\n24              1361221            2     highlighted  89.0  78.0  67.0  56.0  78.0  67.0  56.0  56.0  56.0  56.0  67.0  56.0  67.0  78.0  34.0  45.0  56.0  34.0  23.0  56.0  89.0  34.0  78.0  100.0  67.0  78.0  67.0  67.0  56.0  78.0  45.0  78.0  56.0  45.0",
      "text/html": "<div>\n<style scoped>\n    .dataframe tbody tr th:only-of-type {\n        vertical-align: middle;\n    }\n\n    .dataframe tbody tr th {\n        vertical-align: top;\n    }\n\n    .dataframe thead th {\n        text-align: right;\n    }\n</style>\n<table border=\"1\" class=\"dataframe\">\n  <thead>\n    <tr style=\"text-align: right;\">\n      <th>attribute_id</th>\n      <th>player_id</th>\n      <th>position_id</th>\n      <th>potential_label</th>\n      <th>4322</th>\n      <th>4323</th>\n      <th>4324</th>\n      <th>4325</th>\n      <th>4326</th>\n      <th>4327</th>\n      <th>4328</th>\n      <th>4329</th>\n      <th>4330</th>\n      <th>4332</th>\n      <th>4333</th>\n      <th>4335</th>\n      <th>4338</th>\n      <th>4339</th>\n      <th>4340</th>\n      <th>4341</th>\n      <th>4342</th>\n      <th>4343</th>\n      <th>4344</th>\n      <th>4345</th>\n      <th>4348</th>\n      <th>4349</th>\n      <th>4350</th>\n      <th>4351</th>\n      <th>4352</th>\n      <th>4353</th>\n      <th>4354</th>\n      <th>4355</th>\n      <th>4356</th>\n      <th>4357</th>\n      <th>4407</th>\n      <th>4408</th>\n      <th>4423</th>\n      <th>4426</th>\n    </tr>\n  </thead>\n  <tbody>\n    <tr>\n      <th>24</th>\n      <td>1361221</td>\n      <td>2</td>\n      <td>highlighted</td>\n      <td>89.0</td>\n      <td>78.0</td>\n      <td>67.0</td>\n      <td>56.0</td>\n      <td>78.0</td>\n      <td>67.0</td>\n      <td>56.0</td>\n      <td>56.0</td>\n      <td>56.0</td>\n      <td>56.0</td>\n      <td>67.0</td>\n      <td>56.0</td>\n      <td>67.0</td>\n      <td>78.0</td>\n      <td>34.0</td>\n      <td>45.0</td>\n      <td>56.0</td>\n      <td>34.0</td>\n      <td>23.0</td>\n      <td>56.0</td>\n      <td>89.0</td>\n      <td>34.0</td>\n      <td>78.0</td>\n      <td>100.0</td>\n      <td>67.0</td>\n      <td>78.0</td>\n      <td>67.0</td>\n      <td>67.0</td>\n      <td>56.0</td>\n      <td>78.0</td>\n      <td>45.0</td>\n      <td>78.0</td>\n      <td>56.0</td>\n      <td>45.0</td>\n    </tr>\n  </tbody>\n</table>\n</div>"
     },
     "execution_count": 18,
     "metadata": {},
     "output_type": "execute_result"
    }
   ],
   "source": [
    "df[df[\"4322\"] > 80]"
   ],
   "metadata": {
    "collapsed": false,
    "ExecuteTime": {
     "end_time": "2024-10-27T21:28:50.128856Z",
     "start_time": "2024-10-27T21:28:50.118928Z"
    }
   },
   "id": "55fa8404cabef334",
   "execution_count": 18
  },
  {
   "cell_type": "code",
   "outputs": [
    {
     "data": {
      "text/plain": "average        215\nhighlighted     56\nName: potential_label, dtype: int64"
     },
     "execution_count": 19,
     "metadata": {},
     "output_type": "execute_result"
    }
   ],
   "source": [
    "# Adım6: LabelEncoder fonksiyonunu kullanarak “potential_label” kategorilerini(average,highlighted)sayısal olarak ifade ediniz.\n",
    "\n",
    "# Label Encoding işlemi\n",
    "df[\"potential_label\"].value_counts()"
   ],
   "metadata": {
    "collapsed": false,
    "ExecuteTime": {
     "end_time": "2024-10-27T21:28:50.134119Z",
     "start_time": "2024-10-27T21:28:50.130062Z"
    }
   },
   "id": "ddb27cb35dd43fe7",
   "execution_count": 19
  },
  {
   "cell_type": "code",
   "outputs": [],
   "source": [
    "le = LabelEncoder()\n",
    "df['potential_label'] = le.fit_transform(df['potential_label'])"
   ],
   "metadata": {
    "collapsed": false,
    "ExecuteTime": {
     "end_time": "2024-10-27T21:28:50.138400Z",
     "start_time": "2024-10-27T21:28:50.135527Z"
    }
   },
   "id": "ba757a642755ed9f",
   "execution_count": 20
  },
  {
   "cell_type": "code",
   "outputs": [
    {
     "data": {
      "text/plain": "0    215\n1     56\nName: potential_label, dtype: int64"
     },
     "execution_count": 21,
     "metadata": {},
     "output_type": "execute_result"
    }
   ],
   "source": [
    "df[\"potential_label\"].value_counts()"
   ],
   "metadata": {
    "collapsed": false,
    "ExecuteTime": {
     "end_time": "2024-10-27T21:28:50.143945Z",
     "start_time": "2024-10-27T21:28:50.139673Z"
    }
   },
   "id": "9292b880cfe4ab37",
   "execution_count": 21
  },
  {
   "cell_type": "code",
   "outputs": [],
   "source": [
    "# Adım 7: Sayısal değişken kolonlarını “num_cols” adıyla bir listeye atayınız.\n",
    "num_cols = [col for col in df.columns if \"player_id\" not in col and \"potential_label\" not in col]"
   ],
   "metadata": {
    "collapsed": false,
    "ExecuteTime": {
     "end_time": "2024-10-27T21:28:50.155641Z",
     "start_time": "2024-10-27T21:28:50.152749Z"
    }
   },
   "id": "ed5dcefddc5ed8a9",
   "execution_count": 22
  },
  {
   "cell_type": "code",
   "outputs": [
    {
     "data": {
      "text/plain": "['position_id',\n '4322',\n '4323',\n '4324',\n '4325',\n '4326',\n '4327',\n '4328',\n '4329',\n '4330',\n '4332',\n '4333',\n '4335',\n '4338',\n '4339',\n '4340',\n '4341',\n '4342',\n '4343',\n '4344',\n '4345',\n '4348',\n '4349',\n '4350',\n '4351',\n '4352',\n '4353',\n '4354',\n '4355',\n '4356',\n '4357',\n '4407',\n '4408',\n '4423',\n '4426']"
     },
     "execution_count": 23,
     "metadata": {},
     "output_type": "execute_result"
    }
   ],
   "source": [
    "num_cols"
   ],
   "metadata": {
    "collapsed": false,
    "ExecuteTime": {
     "end_time": "2024-10-27T21:28:50.161562Z",
     "start_time": "2024-10-27T21:28:50.157463Z"
    }
   },
   "id": "acbe7a5cc0619774",
   "execution_count": 23
  },
  {
   "cell_type": "code",
   "outputs": [],
   "source": [
    "# Adım 8: Kaydettiğiniz bütün “num_cols” değişkenlerindeki veriyi ölçeklendirmek için StandardScaler uygulayınız.\n",
    "scaler = StandardScaler()\n",
    "df[num_cols] = scaler.fit_transform(df[num_cols])"
   ],
   "metadata": {
    "collapsed": false,
    "ExecuteTime": {
     "end_time": "2024-10-27T21:28:50.172963Z",
     "start_time": "2024-10-27T21:28:50.163494Z"
    }
   },
   "id": "fd23d97883ea4ffb",
   "execution_count": 24
  },
  {
   "cell_type": "code",
   "outputs": [
    {
     "data": {
      "text/plain": "attribute_id  player_id  position_id  potential_label      4322      4323      4324      4325      4326      4327      4328      4329      4330      4332      4333      4335      4338      4339      4340      4341      4342      4343      4344      4345      4348      4349      4350      4351      4352      4353      4354      4355      4356      4357      4407      4408      4423      4426\n0               1355710     0.511290                0 -0.542606 -0.559398 -1.404764 -0.437916 -0.766602 -0.794802 -0.907351 -0.791605 -0.446324 -0.122619 -1.223858 -1.035633 -1.126240 -1.009285 -0.541797 -0.690375 -0.535091 -1.067288 -1.205671 -1.004927 -1.313773 -1.041775 -0.693269 -0.435633  0.012848 -1.281899 -1.132245 -0.494569 -1.234869 -1.519578 -0.142650 -1.487256 -0.955381 -0.252741\n1               1356362     1.256234                0  0.595327  0.560776  0.678677  0.682837  0.722639  0.722929  0.601190  0.404075  0.727985  0.691171  0.459154  0.996474  0.631888  0.840464  0.911936  0.799406  0.588047  1.229965  0.749536  0.742305  0.878802  0.669953  0.847750  0.716763  0.786581  0.813645  1.052769  0.631718  0.914913  0.768231  0.529664  0.668713  0.403717  1.041611\n2               1356375    -0.978598                0  0.595327  0.560776  0.678677  0.682837  0.722639  0.722929  0.601190  1.001915  0.727985  0.691171  1.132359  0.319105  0.631888  0.840464  0.911936  0.799406  0.588047  0.573607  0.749536  0.742305  0.878802  0.669953  0.077240  0.716763  0.786581  0.813645  1.052769  0.631718  0.914913  0.768231  0.529664  0.668713  0.403717  1.041611\n3               1356375    -0.606126                0  0.595327  1.307560  0.678677  0.682837  0.722639  1.481795  1.355461  1.001915 -0.054888  0.691171  0.459154  0.996474  1.335139  1.580363  0.185069  0.799406  0.588047 -0.082751  0.097800  0.043412  0.878802  1.354645  0.847750  0.716763  1.560314  0.813645  0.428479  0.631718  0.198319  0.768231 -0.142650  0.668713 -0.275832 -0.252741\n4               1356411     1.256234                0  0.595327  0.560776  1.373158  1.430006  0.722639  0.722929  0.601190  0.404075  2.293730  1.504961  0.459154  0.996474  0.631888  0.100564  0.185069  0.799406  1.336806  0.573607  0.749536  0.742305  0.252352  1.354645  0.077240  0.716763  0.786581  0.115130  0.428479  0.631718  0.198319  0.768231  1.874292 -0.049944  1.083267  1.041611",
      "text/html": "<div>\n<style scoped>\n    .dataframe tbody tr th:only-of-type {\n        vertical-align: middle;\n    }\n\n    .dataframe tbody tr th {\n        vertical-align: top;\n    }\n\n    .dataframe thead th {\n        text-align: right;\n    }\n</style>\n<table border=\"1\" class=\"dataframe\">\n  <thead>\n    <tr style=\"text-align: right;\">\n      <th>attribute_id</th>\n      <th>player_id</th>\n      <th>position_id</th>\n      <th>potential_label</th>\n      <th>4322</th>\n      <th>4323</th>\n      <th>4324</th>\n      <th>4325</th>\n      <th>4326</th>\n      <th>4327</th>\n      <th>4328</th>\n      <th>4329</th>\n      <th>4330</th>\n      <th>4332</th>\n      <th>4333</th>\n      <th>4335</th>\n      <th>4338</th>\n      <th>4339</th>\n      <th>4340</th>\n      <th>4341</th>\n      <th>4342</th>\n      <th>4343</th>\n      <th>4344</th>\n      <th>4345</th>\n      <th>4348</th>\n      <th>4349</th>\n      <th>4350</th>\n      <th>4351</th>\n      <th>4352</th>\n      <th>4353</th>\n      <th>4354</th>\n      <th>4355</th>\n      <th>4356</th>\n      <th>4357</th>\n      <th>4407</th>\n      <th>4408</th>\n      <th>4423</th>\n      <th>4426</th>\n    </tr>\n  </thead>\n  <tbody>\n    <tr>\n      <th>0</th>\n      <td>1355710</td>\n      <td>0.511290</td>\n      <td>0</td>\n      <td>-0.542606</td>\n      <td>-0.559398</td>\n      <td>-1.404764</td>\n      <td>-0.437916</td>\n      <td>-0.766602</td>\n      <td>-0.794802</td>\n      <td>-0.907351</td>\n      <td>-0.791605</td>\n      <td>-0.446324</td>\n      <td>-0.122619</td>\n      <td>-1.223858</td>\n      <td>-1.035633</td>\n      <td>-1.126240</td>\n      <td>-1.009285</td>\n      <td>-0.541797</td>\n      <td>-0.690375</td>\n      <td>-0.535091</td>\n      <td>-1.067288</td>\n      <td>-1.205671</td>\n      <td>-1.004927</td>\n      <td>-1.313773</td>\n      <td>-1.041775</td>\n      <td>-0.693269</td>\n      <td>-0.435633</td>\n      <td>0.012848</td>\n      <td>-1.281899</td>\n      <td>-1.132245</td>\n      <td>-0.494569</td>\n      <td>-1.234869</td>\n      <td>-1.519578</td>\n      <td>-0.142650</td>\n      <td>-1.487256</td>\n      <td>-0.955381</td>\n      <td>-0.252741</td>\n    </tr>\n    <tr>\n      <th>1</th>\n      <td>1356362</td>\n      <td>1.256234</td>\n      <td>0</td>\n      <td>0.595327</td>\n      <td>0.560776</td>\n      <td>0.678677</td>\n      <td>0.682837</td>\n      <td>0.722639</td>\n      <td>0.722929</td>\n      <td>0.601190</td>\n      <td>0.404075</td>\n      <td>0.727985</td>\n      <td>0.691171</td>\n      <td>0.459154</td>\n      <td>0.996474</td>\n      <td>0.631888</td>\n      <td>0.840464</td>\n      <td>0.911936</td>\n      <td>0.799406</td>\n      <td>0.588047</td>\n      <td>1.229965</td>\n      <td>0.749536</td>\n      <td>0.742305</td>\n      <td>0.878802</td>\n      <td>0.669953</td>\n      <td>0.847750</td>\n      <td>0.716763</td>\n      <td>0.786581</td>\n      <td>0.813645</td>\n      <td>1.052769</td>\n      <td>0.631718</td>\n      <td>0.914913</td>\n      <td>0.768231</td>\n      <td>0.529664</td>\n      <td>0.668713</td>\n      <td>0.403717</td>\n      <td>1.041611</td>\n    </tr>\n    <tr>\n      <th>2</th>\n      <td>1356375</td>\n      <td>-0.978598</td>\n      <td>0</td>\n      <td>0.595327</td>\n      <td>0.560776</td>\n      <td>0.678677</td>\n      <td>0.682837</td>\n      <td>0.722639</td>\n      <td>0.722929</td>\n      <td>0.601190</td>\n      <td>1.001915</td>\n      <td>0.727985</td>\n      <td>0.691171</td>\n      <td>1.132359</td>\n      <td>0.319105</td>\n      <td>0.631888</td>\n      <td>0.840464</td>\n      <td>0.911936</td>\n      <td>0.799406</td>\n      <td>0.588047</td>\n      <td>0.573607</td>\n      <td>0.749536</td>\n      <td>0.742305</td>\n      <td>0.878802</td>\n      <td>0.669953</td>\n      <td>0.077240</td>\n      <td>0.716763</td>\n      <td>0.786581</td>\n      <td>0.813645</td>\n      <td>1.052769</td>\n      <td>0.631718</td>\n      <td>0.914913</td>\n      <td>0.768231</td>\n      <td>0.529664</td>\n      <td>0.668713</td>\n      <td>0.403717</td>\n      <td>1.041611</td>\n    </tr>\n    <tr>\n      <th>3</th>\n      <td>1356375</td>\n      <td>-0.606126</td>\n      <td>0</td>\n      <td>0.595327</td>\n      <td>1.307560</td>\n      <td>0.678677</td>\n      <td>0.682837</td>\n      <td>0.722639</td>\n      <td>1.481795</td>\n      <td>1.355461</td>\n      <td>1.001915</td>\n      <td>-0.054888</td>\n      <td>0.691171</td>\n      <td>0.459154</td>\n      <td>0.996474</td>\n      <td>1.335139</td>\n      <td>1.580363</td>\n      <td>0.185069</td>\n      <td>0.799406</td>\n      <td>0.588047</td>\n      <td>-0.082751</td>\n      <td>0.097800</td>\n      <td>0.043412</td>\n      <td>0.878802</td>\n      <td>1.354645</td>\n      <td>0.847750</td>\n      <td>0.716763</td>\n      <td>1.560314</td>\n      <td>0.813645</td>\n      <td>0.428479</td>\n      <td>0.631718</td>\n      <td>0.198319</td>\n      <td>0.768231</td>\n      <td>-0.142650</td>\n      <td>0.668713</td>\n      <td>-0.275832</td>\n      <td>-0.252741</td>\n    </tr>\n    <tr>\n      <th>4</th>\n      <td>1356411</td>\n      <td>1.256234</td>\n      <td>0</td>\n      <td>0.595327</td>\n      <td>0.560776</td>\n      <td>1.373158</td>\n      <td>1.430006</td>\n      <td>0.722639</td>\n      <td>0.722929</td>\n      <td>0.601190</td>\n      <td>0.404075</td>\n      <td>2.293730</td>\n      <td>1.504961</td>\n      <td>0.459154</td>\n      <td>0.996474</td>\n      <td>0.631888</td>\n      <td>0.100564</td>\n      <td>0.185069</td>\n      <td>0.799406</td>\n      <td>1.336806</td>\n      <td>0.573607</td>\n      <td>0.749536</td>\n      <td>0.742305</td>\n      <td>0.252352</td>\n      <td>1.354645</td>\n      <td>0.077240</td>\n      <td>0.716763</td>\n      <td>0.786581</td>\n      <td>0.115130</td>\n      <td>0.428479</td>\n      <td>0.631718</td>\n      <td>0.198319</td>\n      <td>0.768231</td>\n      <td>1.874292</td>\n      <td>-0.049944</td>\n      <td>1.083267</td>\n      <td>1.041611</td>\n    </tr>\n  </tbody>\n</table>\n</div>"
     },
     "execution_count": 25,
     "metadata": {},
     "output_type": "execute_result"
    }
   ],
   "source": [
    "df.head()"
   ],
   "metadata": {
    "collapsed": false,
    "ExecuteTime": {
     "end_time": "2024-10-27T21:28:50.185931Z",
     "start_time": "2024-10-27T21:28:50.174901Z"
    }
   },
   "id": "b05cfb905b6b4ef6",
   "execution_count": 25
  },
  {
   "cell_type": "code",
   "outputs": [],
   "source": [
    "# Adım 9: Elimizdeki veri seti üzerinden minimum hata ile futbolcuların potansiyel etiketlerini tahmin eden bir makine öğrenmesi modeli geliştiriniz. (Roc_auc, f1, precision, recall, accuracy metriklerini yazdırınız.)\n",
    "y = df[\"potential_label\"]\n",
    "X = df[num_cols]\n",
    "\n",
    "log_model = LogisticRegression().fit(X, y)"
   ],
   "metadata": {
    "collapsed": false,
    "ExecuteTime": {
     "end_time": "2024-10-27T21:28:50.259537Z",
     "start_time": "2024-10-27T21:28:50.187938Z"
    }
   },
   "id": "6f0cc7214c2504cd",
   "execution_count": 26
  },
  {
   "cell_type": "code",
   "outputs": [
    {
     "data": {
      "text/plain": "array([-2.18824415])"
     },
     "execution_count": 27,
     "metadata": {},
     "output_type": "execute_result"
    }
   ],
   "source": [
    "log_model.intercept_"
   ],
   "metadata": {
    "collapsed": false,
    "ExecuteTime": {
     "end_time": "2024-10-27T21:28:50.368658Z",
     "start_time": "2024-10-27T21:28:50.362601Z"
    }
   },
   "id": "6cc8212d760741c7",
   "execution_count": 27
  },
  {
   "cell_type": "code",
   "outputs": [
    {
     "data": {
      "text/plain": "array([[-0.20591571,  0.17530026,  0.0455339 , -0.12497523,  1.9945156 ,\n         0.90406835, -0.69250273, -0.55000711,  0.03216059, -0.04303945,\n        -0.52292349, -0.72634442, -0.02681738, -0.06333988,  0.5600584 ,\n        -0.38105504,  0.55216279,  0.13648318,  0.3115388 ,  0.68858548,\n         0.37063877,  0.22157773, -1.15849969,  0.10853137,  0.30836583,\n         0.12385469,  1.20281013, -0.72352819,  0.30047786, -0.63550195,\n        -0.38656717,  1.0194175 , -0.22778065, -0.41651351, -1.27231978]])"
     },
     "execution_count": 28,
     "metadata": {},
     "output_type": "execute_result"
    }
   ],
   "source": [
    "log_model.coef_"
   ],
   "metadata": {
    "collapsed": false,
    "ExecuteTime": {
     "end_time": "2024-10-27T21:28:50.375170Z",
     "start_time": "2024-10-27T21:28:50.370197Z"
    }
   },
   "id": "eab03bcc18365ede",
   "execution_count": 28
  },
  {
   "cell_type": "code",
   "outputs": [],
   "source": [
    "y_pred = log_model.predict(X)"
   ],
   "metadata": {
    "collapsed": false,
    "ExecuteTime": {
     "end_time": "2024-10-27T21:28:50.398742Z",
     "start_time": "2024-10-27T21:28:50.377092Z"
    }
   },
   "id": "28d768319124dbcc",
   "execution_count": 29
  },
  {
   "cell_type": "code",
   "outputs": [
    {
     "data": {
      "text/plain": "<Figure size 640x480 with 2 Axes>",
      "image/png": "[encoded data removed]"
     },
     "metadata": {},
     "output_type": "display_data"
    }
   ],
   "source": [
    "def plot_confusion_matrix(y, y_pred):\n",
    "    acc = round(accuracy_score(y, y_pred), 2)\n",
    "    cm = confusion_matrix(y, y_pred)\n",
    "    sns.heatmap(cm, annot=True, fmt=\".0f\")\n",
    "    plt.xlabel('y_pred')\n",
    "    plt.ylabel('y')\n",
    "    plt.title('Accuracy Score: {0}'.format(acc), size=10)\n",
    "    plt.show()\n",
    "\n",
    "plot_confusion_matrix(y, y_pred)"
   ],
   "metadata": {
    "collapsed": false,
    "ExecuteTime": {
     "end_time": "2024-10-27T21:28:50.579573Z",
     "start_time": "2024-10-27T21:28:50.401075Z"
    }
   },
   "id": "51dd3f543b48621f",
   "execution_count": 30
  },
  {
   "cell_type": "code",
   "outputs": [
    {
     "name": "stdout",
     "output_type": "stream",
     "text": [
      "              precision    recall  f1-score   support\n",
      "\n",
      "           0       0.90      0.97      0.94       215\n",
      "           1       0.85      0.61      0.71        56\n",
      "\n",
      "    accuracy                           0.90       271\n",
      "   macro avg       0.88      0.79      0.82       271\n",
      "weighted avg       0.89      0.90      0.89       271\n"
     ]
    }
   ],
   "source": [
    "print(classification_report(y, y_pred))"
   ],
   "metadata": {
    "collapsed": false,
    "ExecuteTime": {
     "end_time": "2024-10-27T21:28:50.591931Z",
     "start_time": "2024-10-27T21:28:50.581586Z"
    }
   },
   "id": "65cbca926850b6d6",
   "execution_count": 31
  },
  {
   "cell_type": "code",
   "outputs": [
    {
     "data": {
      "text/plain": "0.9187707641196013"
     },
     "execution_count": 32,
     "metadata": {},
     "output_type": "execute_result"
    }
   ],
   "source": [
    "# ROC AUC\n",
    "y_prob = log_model.predict_proba(X)[:, 1]\n",
    "roc_auc_score(y, y_prob)"
   ],
   "metadata": {
    "collapsed": false,
    "ExecuteTime": {
     "end_time": "2024-10-27T21:28:50.618432Z",
     "start_time": "2024-10-27T21:28:50.594738Z"
    }
   },
   "id": "a76f508ddbe4bb5",
   "execution_count": 32
  },
  {
   "cell_type": "code",
   "outputs": [],
   "source": [
    "# Model Validation: Holdout\n",
    "X_train, X_test, y_train, y_test = train_test_split(X,\n",
    "                                                    y,\n",
    "                                                    test_size=0.20, random_state=17)\n",
    "\n",
    "log_model = LogisticRegression().fit(X_train, y_train)"
   ],
   "metadata": {
    "collapsed": false,
    "ExecuteTime": {
     "end_time": "2024-10-27T21:28:50.629983Z",
     "start_time": "2024-10-27T21:28:50.619956Z"
    }
   },
   "id": "9250845672943c6c",
   "execution_count": 33
  },
  {
   "cell_type": "code",
   "outputs": [
    {
     "name": "stdout",
     "output_type": "stream",
     "text": [
      "              precision    recall  f1-score   support\n",
      "\n",
      "           0       0.82      0.98      0.89        41\n",
      "           1       0.83      0.36      0.50        14\n",
      "\n",
      "    accuracy                           0.82        55\n",
      "   macro avg       0.82      0.67      0.69        55\n",
      "weighted avg       0.82      0.82      0.79        55\n"
     ]
    }
   ],
   "source": [
    "y_pred = log_model.predict(X_test)\n",
    "y_prob = log_model.predict_proba(X_test)[:, 1]\n",
    "\n",
    "print(classification_report(y_test, y_pred))"
   ],
   "metadata": {
    "collapsed": false,
    "ExecuteTime": {
     "end_time": "2024-10-27T21:28:50.641860Z",
     "start_time": "2024-10-27T21:28:50.631342Z"
    }
   },
   "id": "75e3988c273ff3d",
   "execution_count": 34
  },
  {
   "cell_type": "code",
   "outputs": [
    {
     "data": {
      "text/plain": "<Figure size 640x480 with 1 Axes>",
      "image/png": "[encoded data removed]"
     },
     "metadata": {},
     "output_type": "display_data"
    }
   ],
   "source": [
    "# ROC eğrisini hesapla\n",
    "fpr, tpr, _ = roc_curve(y_test, y_prob)\n",
    "roc_auc = auc(fpr, tpr)\n",
    "\n",
    "# ROC eğrisini çiz\n",
    "plt.figure()\n",
    "plt.plot(fpr, tpr, color='darkorange', lw=2, label='LogisticRegression (AUC = %0.2f)' % roc_auc)\n",
    "plt.plot([0, 1], [0, 1], color='navy', lw=2, linestyle='--')\n",
    "plt.xlim([0.0, 1.0])\n",
    "plt.ylim([0.0, 1.05])\n",
    "plt.xlabel('False Positive Rate')\n",
    "plt.ylabel('True Positive Rate')\n",
    "plt.title('ROC Curve')\n",
    "plt.legend(loc=\"lower right\")\n",
    "plt.show()"
   ],
   "metadata": {
    "collapsed": false,
    "ExecuteTime": {
     "end_time": "2024-10-27T21:28:50.836544Z",
     "start_time": "2024-10-27T21:28:50.643650Z"
    }
   },
   "id": "3bcad34d9ab6c2db",
   "execution_count": 35
  },
  {
   "cell_type": "code",
   "outputs": [],
   "source": [
    "# Model Validation: 10-Fold Cross Validation\n",
    "y = df[\"potential_label\"]\n",
    "X = df[num_cols]\n",
    "\n",
    "log_model = LogisticRegression().fit(X, y)\n",
    "\n",
    "cv_results = cross_validate(log_model,\n",
    "                            X, y,\n",
    "                            cv=10,\n",
    "                            scoring=[\"accuracy\", \"precision\", \"recall\", \"f1\", \"roc_auc\"])"
   ],
   "metadata": {
    "collapsed": false,
    "ExecuteTime": {
     "end_time": "2024-10-27T21:28:51.576013Z",
     "start_time": "2024-10-27T21:28:50.839400Z"
    }
   },
   "id": "ccb9ca9712535cd5",
   "execution_count": 36
  },
  {
   "cell_type": "code",
   "outputs": [
    {
     "data": {
      "text/plain": "0.8525132275132276"
     },
     "execution_count": 37,
     "metadata": {},
     "output_type": "execute_result"
    }
   ],
   "source": [
    "cv_results['test_accuracy'].mean()"
   ],
   "metadata": {
    "collapsed": false,
    "ExecuteTime": {
     "end_time": "2024-10-27T21:28:51.583205Z",
     "start_time": "2024-10-27T21:28:51.578410Z"
    }
   },
   "id": "d77c4a687c6c995c",
   "execution_count": 37
  },
  {
   "cell_type": "code",
   "outputs": [
    {
     "data": {
      "text/plain": "0.7738095238095238"
     },
     "execution_count": 38,
     "metadata": {},
     "output_type": "execute_result"
    }
   ],
   "source": [
    "cv_results['test_precision'].mean()"
   ],
   "metadata": {
    "collapsed": false,
    "ExecuteTime": {
     "end_time": "2024-10-27T21:28:51.588025Z",
     "start_time": "2024-10-27T21:28:51.584708Z"
    }
   },
   "id": "c34e4f5cb579cfca",
   "execution_count": 38
  },
  {
   "cell_type": "code",
   "outputs": [
    {
     "data": {
      "text/plain": "0.49000000000000005"
     },
     "execution_count": 39,
     "metadata": {},
     "output_type": "execute_result"
    }
   ],
   "source": [
    "cv_results['test_recall'].mean()"
   ],
   "metadata": {
    "collapsed": false,
    "ExecuteTime": {
     "end_time": "2024-10-27T21:28:51.597113Z",
     "start_time": "2024-10-27T21:28:51.591544Z"
    }
   },
   "id": "1812d2ecb1b523d1",
   "execution_count": 39
  },
  {
   "cell_type": "code",
   "outputs": [
    {
     "data": {
      "text/plain": "0.5684648684648684"
     },
     "execution_count": 40,
     "metadata": {},
     "output_type": "execute_result"
    }
   ],
   "source": [
    "cv_results['test_f1'].mean()"
   ],
   "metadata": {
    "collapsed": false,
    "ExecuteTime": {
     "end_time": "2024-10-27T21:28:51.606760Z",
     "start_time": "2024-10-27T21:28:51.599814Z"
    }
   },
   "id": "c9772e01badf8cdf",
   "execution_count": 40
  },
  {
   "cell_type": "code",
   "outputs": [
    {
     "data": {
      "text/plain": "0.846082251082251"
     },
     "execution_count": 41,
     "metadata": {},
     "output_type": "execute_result"
    }
   ],
   "source": [
    "cv_results['test_roc_auc'].mean()"
   ],
   "metadata": {
    "collapsed": false,
    "ExecuteTime": {
     "end_time": "2024-10-27T21:28:51.612061Z",
     "start_time": "2024-10-27T21:28:51.608231Z"
    }
   },
   "id": "e6ed2f5a64798ed1",
   "execution_count": 41
  },
  {
   "cell_type": "code",
   "outputs": [],
   "source": [
    "last_df = pd.DataFrame({\n",
    "    \"player_id\": df[\"player_id\"],\n",
    "    \"real_value\": df[\"potential_label\"],\n",
    "    \"predict\": log_model.predict(X)\n",
    "})"
   ],
   "metadata": {
    "collapsed": false,
    "ExecuteTime": {
     "end_time": "2024-10-27T21:28:51.623259Z",
     "start_time": "2024-10-27T21:28:51.614018Z"
    }
   },
   "id": "ed5ec85b362f4e8f",
   "execution_count": 42
  },
  {
   "cell_type": "code",
   "outputs": [
    {
     "data": {
      "text/plain": "    player_id  real_value  predict\n0     1355710           0        0\n1     1356362           0        0\n2     1356375           0        0\n3     1356375           0        0\n4     1356411           0        0\n5     1356411           0        0\n6     1358222           0        0\n7     1358274           1        1\n8     1359349           1        0\n9     1359355           0        0\n10    1359357           0        0\n11    1359389           1        1\n12    1359390           0        0\n13    1359394           0        0\n14    1359398           0        0\n15    1359405           0        0\n16    1360989           0        0\n17    1361007           0        0\n18    1361007           1        1\n19    1361061           0        0",
      "text/html": "<div>\n<style scoped>\n    .dataframe tbody tr th:only-of-type {\n        vertical-align: middle;\n    }\n\n    .dataframe tbody tr th {\n        vertical-align: top;\n    }\n\n    .dataframe thead th {\n        text-align: right;\n    }\n</style>\n<table border=\"1\" class=\"dataframe\">\n  <thead>\n    <tr style=\"text-align: right;\">\n      <th></th>\n      <th>player_id</th>\n      <th>real_value</th>\n      <th>predict</th>\n    </tr>\n  </thead>\n  <tbody>\n    <tr>\n      <th>0</th>\n      <td>1355710</td>\n      <td>0</td>\n      <td>0</td>\n    </tr>\n    <tr>\n      <th>1</th>\n      <td>1356362</td>\n      <td>0</td>\n      <td>0</td>\n    </tr>\n    <tr>\n      <th>2</th>\n      <td>1356375</td>\n      <td>0</td>\n      <td>0</td>\n    </tr>\n    <tr>\n      <th>3</th>\n      <td>1356375</td>\n      <td>0</td>\n      <td>0</td>\n    </tr>\n    <tr>\n      <th>4</th>\n      <td>1356411</td>\n      <td>0</td>\n      <td>0</td>\n    </tr>\n    <tr>\n      <th>5</th>\n      <td>1356411</td>\n      <td>0</td>\n      <td>0</td>\n    </tr>\n    <tr>\n      <th>6</th>\n      <td>1358222</td>\n      <td>0</td>\n      <td>0</td>\n    </tr>\n    <tr>\n      <th>7</th>\n      <td>1358274</td>\n      <td>1</td>\n      <td>1</td>\n    </tr>\n    <tr>\n      <th>8</th>\n      <td>1359349</td>\n      <td>1</td>\n      <td>0</td>\n    </tr>\n    <tr>\n      <th>9</th>\n      <td>1359355</td>\n      <td>0</td>\n      <td>0</td>\n    </tr>\n    <tr>\n      <th>10</th>\n      <td>1359357</td>\n      <td>0</td>\n      <td>0</td>\n    </tr>\n    <tr>\n      <th>11</th>\n      <td>1359389</td>\n      <td>1</td>\n      <td>1</td>\n    </tr>\n    <tr>\n      <th>12</th>\n      <td>1359390</td>\n      <td>0</td>\n      <td>0</td>\n    </tr>\n    <tr>\n      <th>13</th>\n      <td>1359394</td>\n      <td>0</td>\n      <td>0</td>\n    </tr>\n    <tr>\n      <th>14</th>\n      <td>1359398</td>\n      <td>0</td>\n      <td>0</td>\n    </tr>\n    <tr>\n      <th>15</th>\n      <td>1359405</td>\n      <td>0</td>\n      <td>0</td>\n    </tr>\n    <tr>\n      <th>16</th>\n      <td>1360989</td>\n      <td>0</td>\n      <td>0</td>\n    </tr>\n    <tr>\n      <th>17</th>\n      <td>1361007</td>\n      <td>0</td>\n      <td>0</td>\n    </tr>\n    <tr>\n      <th>18</th>\n      <td>1361007</td>\n      <td>1</td>\n      <td>1</td>\n    </tr>\n    <tr>\n      <th>19</th>\n      <td>1361061</td>\n      <td>0</td>\n      <td>0</td>\n    </tr>\n  </tbody>\n</table>\n</div>"
     },
     "execution_count": 43,
     "metadata": {},
     "output_type": "execute_result"
    }
   ],
   "source": [
    "last_df.head(20)"
   ],
   "metadata": {
    "collapsed": false,
    "ExecuteTime": {
     "end_time": "2024-10-27T21:28:51.631847Z",
     "start_time": "2024-10-27T21:28:51.625217Z"
    }
   },
   "id": "99c5c40db3186d37",
   "execution_count": 43
  },
  {
   "cell_type": "code",
   "outputs": [
    {
     "data": {
      "text/plain": "<Figure size 1000x1000 with 1 Axes>",
      "image/png": "[encoded data removed]"
     },
     "metadata": {},
     "output_type": "display_data"
    }
   ],
   "source": [
    "# Adım 10: Değişkenlerin önem düzeyini belirten feature_importance fonksiyonunu kullanarak özelliklerin sıralamasını çizdiriniz.\n",
    "def plot_importance(model, features, num=len(X), save=False):\n",
    "    feature_imp = pd.DataFrame({'Value': model.coef_[0], 'Feature': features.columns})\n",
    "    plt.figure(figsize=(10, 10))\n",
    "    sns.set(font_scale=1)\n",
    "    sns.barplot(x=\"Value\", y=\"Feature\", data=feature_imp.sort_values(by=\"Value\", ascending=False)[0:num])\n",
    "    plt.title('Feature Importance (Logistic Regression Coefficients)')\n",
    "    plt.tight_layout()\n",
    "    plt.show()\n",
    "    if save:\n",
    "        plt.savefig('importances.png')\n",
    "\n",
    "\n",
    "plot_importance(log_model, X_train)"
   ],
   "metadata": {
    "collapsed": false,
    "ExecuteTime": {
     "end_time": "2024-10-27T21:34:40.995078Z",
     "start_time": "2024-10-27T21:34:40.810229Z"
    }
   },
   "id": "a88da99d359e2bad",
   "execution_count": 48
  }
 ],
 "metadata": {
  "kernelspec": {
   "display_name": "Python 3",
   "language": "python",
   "name": "python3"
  },
  "language_info": {
   "codemirror_mode": {
    "name": "ipython",
    "version": 2
   },
   "file_extension": ".py",
   "mimetype": "text/x-python",
   "name": "python",
   "nbconvert_exporter": "python",
   "pygments_lexer": "ipython2",
   "version": "2.7.6"
  }
 },
 "nbformat": 4,
 "nbformat_minor": 5
}
